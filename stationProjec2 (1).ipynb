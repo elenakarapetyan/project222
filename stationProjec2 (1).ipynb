{
  "nbformat": 4,
  "nbformat_minor": 0,
  "metadata": {
    "colab": {
      "provenance": []
    },
    "kernelspec": {
      "name": "python3",
      "display_name": "Python 3"
    },
    "language_info": {
      "name": "python"
    }
  },
  "cells": [
    {
      "cell_type": "markdown",
      "source": [
        "Here are the rules of the game:\n",
        "\n",
        "The player should roll two dice. If the sum of both of them is 7 or 11 the player wins. If the sum is 2, 3 or 12 (craps) the casino wins. If during the first roll the sum is 4, 5, 6, 8, 9 or 10, that number becomes the “goal” number. To win, the player should roll the dice till they roll the goal number again. If the player rolls a 7 before rolling the goal number, they lose.\n",
        "\n",
        "Your task is to recreate this game using Python. Your program should roll two dice and output the sum of two random numbers. By following the rules of the game, your program should decide whether the player wins or loses."
      ],
      "metadata": {
        "id": "c8Oc7w4Aj2E1"
      }
    },
    {
      "cell_type": "code",
      "execution_count": 19,
      "metadata": {
        "colab": {
          "base_uri": "https://localhost:8080/"
        },
        "id": "7sEVgEJBZLCb",
        "outputId": "402c6e80-2214-47bb-a3dd-993f0366a33f"
      },
      "outputs": [
        {
          "output_type": "stream",
          "name": "stdout",
          "text": [
            "The sum of dice is 6 + 3 = 9\n",
            "Your new goal number is 9\n",
            "The sum of dice is 1 + 5 = 6\n",
            "The sum of dice is 1 + 6 = 7\n",
            "You lose\n"
          ]
        }
      ],
      "source": [
        "import random\n",
        "\n",
        "def check():\n",
        "  lst = [1, 2, 3, 4, 5, 6,]\n",
        "  a = random.choice(lst)\n",
        "  b = random.choice(lst)\n",
        "  s = a + b\n",
        "  if s == 7 or s == 11:\n",
        "    print(f\"The sum of dice is {a} + {b} = {s} You won \")\n",
        "  elif s != 2 and s != 3 and s != 12 and s != 7 and s != 11:\n",
        "    print(f\"The sum of dice is {a} + {b} = {s}\")\n",
        "    print(f\"Your new goal number is {s}\")\n",
        "    goal = s\n",
        "    u = 0\n",
        "  while u != goal and u != 7:\n",
        "      a = random.choice(lst)\n",
        "      b = random.choice(lst)\n",
        "      u = a + b\n",
        "      print(f\"The sum of dice is {a} + {b} = {u}\")\n",
        "      if u == 7:\n",
        "        print(\"You lose\")\n",
        "      elif u == goal:\n",
        "        print(\"You won\")\n",
        "      \n",
        "\n",
        "\n",
        "check()\n",
        "\n"
      ]
    },
    {
      "cell_type": "code",
      "source": [],
      "metadata": {
        "id": "KrGFWOh2-5f1"
      },
      "execution_count": null,
      "outputs": []
    }
  ]
}